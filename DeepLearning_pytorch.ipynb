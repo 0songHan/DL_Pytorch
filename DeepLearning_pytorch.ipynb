{
  "nbformat": 4,
  "nbformat_minor": 0,
  "metadata": {
    "colab": {
      "provenance": [],
      "gpuType": "T4",
      "authorship_tag": "ABX9TyOy/sGZQmv54zznInVautiF",
      "include_colab_link": true
    },
    "kernelspec": {
      "name": "python3",
      "display_name": "Python 3"
    },
    "language_info": {
      "name": "python"
    }
  },
  "cells": [
    {
      "cell_type": "markdown",
      "metadata": {
        "id": "view-in-github",
        "colab_type": "text"
      },
      "source": [
        "<a href=\"https://colab.research.google.com/github/0songHan/DL_Pytorch/blob/main/DeepLearning_pytorch.ipynb\" target=\"_parent\"><img src=\"https://colab.research.google.com/assets/colab-badge.svg\" alt=\"Open In Colab\"/></a>"
      ]
    },
    {
      "cell_type": "code",
      "source": [
        "import numpy as np\n",
        "import pandas as pd\n",
        "import matplotlib.pyplot as plt\n",
        "import torch\n",
        "import torch.nn as nn\n",
        "import torch.nn.functional as F\n",
        "from sklearn.preprocessing import OneHotEncoder\n",
        "from sklearn.model_selection import train_test_split"
      ],
      "metadata": {
        "id": "Zs9Rbi0QK8cf"
      },
      "execution_count": 2,
      "outputs": []
    },
    {
      "cell_type": "code",
      "source": [
        "from re import X\n",
        "# 创建1个Model来继承 nn.Module\n",
        "class Model(nn.Module):\n",
        "  #输入特征4个 h1层8个 h2层9个 输出类别有3个\n",
        "  def __init__(self,in_features=4,h1=8,h2=9,out_features=3):\n",
        "    super(Model,self).__init__()\n",
        "    self.fc1 = nn.Linear(in_features,h1)\n",
        "    self.fc2 = nn.Linear(h1,h2)\n",
        "    self.out = nn.Linear(h2,out_features)\n",
        "  def forward(self,x):\n",
        "    x = F.relu(self.fc1(x))\n",
        "    x = F.relu(self.fc2(x))\n",
        "    x = self.out(x)\n",
        "\n",
        "    return x"
      ],
      "metadata": {
        "id": "jE6cPWpLPZkB"
      },
      "execution_count": 52,
      "outputs": []
    },
    {
      "cell_type": "code",
      "source": [
        "# 创建1个手动种子\n",
        "torch.manual_seed(41)\n",
        "model = Model()"
      ],
      "metadata": {
        "id": "wpCJONL-URE7"
      },
      "execution_count": 53,
      "outputs": []
    },
    {
      "cell_type": "code",
      "source": [],
      "metadata": {
        "id": "ldmN8WscVpQU"
      },
      "execution_count": 47,
      "outputs": []
    },
    {
      "cell_type": "code",
      "source": [
        "url = 'https://gist.githubusercontent.com/curran/a08a1080b88344b0c8a7/raw/0e7a9b0a5d22642a06d3d5b9bcbad9890c8ee534/iris.csv'\n",
        "my_df = pd.read_csv(url)\n",
        "my_df.info()"
      ],
      "metadata": {
        "id": "_nPE-4HqWEyi"
      },
      "execution_count": null,
      "outputs": []
    },
    {
      "cell_type": "code",
      "source": [
        "x = my_df.drop('species',axis=1)\n",
        "y = my_df[['species']]\n",
        "ohe = OneHotEncoder()\n",
        "y = ohe.fit_transform(y[['species']]).toarray()\n",
        "#直观的观察一下species转换成数字的df信息\n",
        "y = pd.DataFrame(y,columns=ohe.categories_)\n",
        "y"
      ],
      "metadata": {
        "id": "aifnKeZVbFh8"
      },
      "execution_count": null,
      "outputs": []
    },
    {
      "cell_type": "code",
      "source": [
        "#将x,y转换成为numpy的arrry\n",
        "x = x.values\n",
        "y = y.values"
      ],
      "metadata": {
        "id": "jBIIvcAKlM1S"
      },
      "execution_count": 36,
      "outputs": []
    },
    {
      "cell_type": "code",
      "source": [
        "#划分训练集和测试集\n",
        "X_train, X_test, y_train, y_test = train_test_split(x,y,test_size=0.2,random_state=41)\n",
        "#查看集中一个结果\n",
        "# X_train"
      ],
      "metadata": {
        "id": "ihvYMHXflnfx"
      },
      "execution_count": 37,
      "outputs": []
    },
    {
      "cell_type": "code",
      "source": [
        "# x转换成张量\n",
        "X_train = torch.FloatTensor(X_train)\n",
        "X_test = torch.FloatTensor(X_test)"
      ],
      "metadata": {
        "id": "4M9GL4Rhl8fS"
      },
      "execution_count": 38,
      "outputs": []
    },
    {
      "cell_type": "code",
      "source": [
        "y_train = torch.LongTensor(y_train)\n",
        "y_test = torch.LongTensor(y_test)"
      ],
      "metadata": {
        "id": "cR3M0L0Ynfpu"
      },
      "execution_count": 39,
      "outputs": []
    },
    {
      "cell_type": "code",
      "source": [
        "#测量误差\n",
        "criterion = nn.CrossEntropyLoss()\n",
        "#选择优化器\n",
        "optimizer = torch.optim.Adam(model.parameters(),lr=0.01)"
      ],
      "metadata": {
        "id": "omFjsU9enrFz"
      },
      "execution_count": 55,
      "outputs": []
    },
    {
      "cell_type": "code",
      "source": [
        "epochs = 100\n",
        "losses = []\n",
        "for i in range(epochs):\n",
        ""
      ],
      "metadata": {
        "id": "Va56eRq4LXvb"
      },
      "execution_count": null,
      "outputs": []
    },
    {
      "cell_type": "code",
      "source": [
        "a = model.forward(X_test)"
      ],
      "metadata": {
        "id": "ZLCTsRjjQB7F"
      },
      "execution_count": 56,
      "outputs": []
    },
    {
      "cell_type": "code",
      "source": [
        "model.parameters"
      ],
      "metadata": {
        "colab": {
          "base_uri": "https://localhost:8080/"
        },
        "id": "UFLxokEaRG6F",
        "outputId": "f470372d-ccae-4d7b-ebd8-bf2b93667fd0"
      },
      "execution_count": 54,
      "outputs": [
        {
          "output_type": "execute_result",
          "data": {
            "text/plain": [
              "<bound method Module.parameters of Model(\n",
              "  (fc1): Linear(in_features=4, out_features=8, bias=True)\n",
              "  (fc2): Linear(in_features=8, out_features=9, bias=True)\n",
              "  (out): Linear(in_features=9, out_features=3, bias=True)\n",
              ")>"
            ]
          },
          "metadata": {},
          "execution_count": 54
        }
      ]
    }
  ]
}